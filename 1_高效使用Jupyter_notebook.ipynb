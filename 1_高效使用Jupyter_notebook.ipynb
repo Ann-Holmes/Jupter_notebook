{
 "cells": [
  {
   "cell_type": "markdown",
   "metadata": {},
   "source": [
    "# 执行shell命令\n",
    "只需要在命令前面加上`!`就好啦!\n",
    "e.g: `pip install packages`"
   ]
  },
  {
   "cell_type": "markdown",
   "metadata": {},
   "source": [
    "# 给Jupyter换主题\n",
    "\n",
    "> 以下命令在终端中运行\n",
    "\n",
    "```bash\n",
    "pip install jupyterthemes\n",
    "\n",
    "jt -l\n",
    "\n",
    "# selecting a particular theme\n",
    "jt -t <name of the theme>\n",
    "\n",
    "# reverting to original theme\n",
    "jt -r \n",
    "```\n",
    "每次换主题后, 都要重新加载Jupyter notebook才能看到主题变化"
   ]
  },
  {
   "cell_type": "markdown",
   "metadata": {},
   "source": [
    "# 笔记本扩展\n",
    "\n",
    "## Hinterland\n",
    "Hinterland功能可以让你每敲完一个键, 就出现下拉菜单, 可以直接选中你需要的词汇\n",
    "\n",
    "## Snippets\n",
    "Snippets在工具栏里加了一个下拉菜单, 可以非常方便的直接插入代码段, 完全不用手动敲\n",
    "\n",
    "## 拆分单元格\n",
    "拆分笔记本中的单元格, 改成相邻的模式, 看起来就像分了两栏\n",
    "\n",
    "## 目录\n",
    "这个功能可以自动找到所有的标题, 生成目录, 并且这个目录还是移动的呦, 你可以放在侧边栏, 也可以拖动到任何你喜欢的地方悬浮起来\n",
    "\n",
    "## 折叠一个标题下的全部内容\n",
    "如果你的代码太长，觉得滚动过去太麻烦，可以直接折叠掉\n",
    "\n",
    "## Autopep8\n",
    "一键美化代码\n",
    "\n",
    "## 安装方法\n",
    "\n",
    "> 要用到conda\n",
    "\n",
    "```bash\n",
    "conda install -c conda-forge jupyter_nbextensions_configurator\n",
    "\n",
    "pip install jupyter_contrib_nbextensions && jupyter contrib nbextension install\n",
    "#incase you get permission errors on MacOS,\n",
    "pip install jupyter_contrib_nbextensions && jupyter contrib nbextension install --user\n",
    "```\n"
   ]
  },
  {
   "cell_type": "markdown",
   "metadata": {},
   "source": [
    "# Jupyter小工具\n",
    "\n",
    "## 调色盘\n",
    "\n",
    "```Python\n",
    "widgets.ColorPicker(\n",
    "    concise=False,\n",
    "    description= Pick a color ,\n",
    "    value= blue ,\n",
    "    disabled=False\n",
    ")\n",
    "```\n",
    "\n",
    "``` Python\n",
    "tab_contents = [ P0 ,  P1 ,  P2 ,  P3 ,  P4 ]\n",
    "children = [widgets.Text(description=name) for name in tab_contents]\n",
    "tab = widgets.Tab()\n",
    "tab.children = children\n",
    "for i in range(len(children)):\n",
    "    tab.set_title(i, str(i))\n",
    "tab\n",
    "```\n",
    "\n",
    "## 安装方法\n",
    "```bash\n",
    "# pip\n",
    "pip install ipywidgets\n",
    "jupyter nbextension enable --py widgetsnbextension\n",
    "# Conda\n",
    "conda install -c conda-forge ipywidgets\n",
    "#Installing ipywidgets with conda automatically enables the extension\n",
    "```\n",
    "\n",
    "```python\n",
    "# Start with some imports!\n",
    "from ipywidgets import interact\n",
    "import ipywidgets as widgets\n",
    "```\n",
    "\n",
    "## Qgrid\n",
    "Qgrid也是一个Jupyter的小部件，不过它主要用于数据帧，装上之后，就可以像操作Excel里的筛选功能一样，方便的处理数据\n",
    "\n",
    "## 安装方法\n",
    "```bash\n",
    "pip install qgrid\n",
    "jupyter nbextension enable --py --sys-prefix qgrid\n",
    "# only required if you have not enabled the ipywidgets nbextension yet\n",
    "jupyter nbextension enable --py --sys-prefix widgetsnbextension\n",
    "# only required if you have not added conda-forge to your channels yet\n",
    "conda config --add channels conda-forge\n",
    "conda install qgrid\n",
    "```\n"
   ]
  },
  {
   "cell_type": "markdown",
   "metadata": {},
   "source": [
    "# 参考\n",
    "[你真的会用Jupyter吗？这里有7个进阶功能助你效率翻倍](https://mp.weixin.qq.com/s?__biz=MzI2NjY5NzI0NA==&mid=2247485313&idx=1&sn=6ebac51edaee883f915605475da37dd2&chksm=ea8b68f2ddfce1e44ad1ae7ffee7bd38274b8af77b424c1e9fc2cfe9be6c9d4c324a338beef3&scene=0&subscene=131&clicktime=1546935167&ascene=7&devicetype=android-28&version=27000038&nettype=WIFI&abtest_cookie=BAABAAoACwATABQABQAjlx4AV5keAJuZHgCdmR4As5keAAAA&lang=zh_CN&pass_ticket=Ts74J3dTFwKCaqABOdl7nREfMF0neeByFjeLA00wSbeoPOPFbVxYt1JC3BCcb7o7&wx_header=1)\n"
   ]
  }
 ],
 "metadata": {
  "kernelspec": {
   "display_name": "Python 3",
   "language": "python",
   "name": "python3"
  },
  "language_info": {
   "codemirror_mode": {
    "name": "ipython",
    "version": 3
   },
   "file_extension": ".py",
   "mimetype": "text/x-python",
   "name": "python",
   "nbconvert_exporter": "python",
   "pygments_lexer": "ipython3",
   "version": "3.7.0"
  }
 },
 "nbformat": 4,
 "nbformat_minor": 2
}
